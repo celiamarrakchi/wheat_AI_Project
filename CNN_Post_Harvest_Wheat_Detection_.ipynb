{
  "cells": [
    {
      "cell_type": "markdown",
      "id": "fa5147b9",
      "metadata": {
        "id": "fa5147b9"
      },
      "source": [
        "# CNN model to detect wheat diseases"
      ]
    },
    {
      "cell_type": "markdown",
      "id": "831cee03",
      "metadata": {
        "id": "831cee03"
      },
      "source": [
        "## Pre-requisites"
      ]
    },
    {
      "cell_type": "markdown",
      "id": "8f3c5ba1",
      "metadata": {
        "id": "8f3c5ba1"
      },
      "source": [
        "### Importing libraries"
      ]
    },
    {
      "cell_type": "code",
      "execution_count": 1,
      "id": "393f01f7",
      "metadata": {
        "id": "393f01f7"
      },
      "outputs": [],
      "source": [
        "\n",
        "import numpy as np\n",
        "import cv2\n",
        "import os\n",
        "import matplotlib.pyplot as plt\n",
        "import random\n",
        "from sklearn.model_selection import train_test_split\n",
        "from tensorflow.keras.models import Sequential\n",
        "from tensorflow.keras.layers import Conv2D, MaxPooling2D, Flatten, Dense\n",
        "from tensorflow.keras.preprocessing.image import ImageDataGenerator\n"
      ]
    },
    {
      "cell_type": "markdown",
      "id": "86efbaa2",
      "metadata": {
        "id": "86efbaa2"
      },
      "source": [
        "### Setting the paths of the dataset and images to be classified"
      ]
    },
    {
      "cell_type": "code",
      "execution_count": null,
      "id": "4wBBlboAhHmy",
      "metadata": {
        "id": "4wBBlboAhHmy"
      },
      "outputs": [],
      "source": [
        "from google.colab import drive\n",
        "drive.mount('/content/drive')"
      ]
    },
    {
      "cell_type": "code",
      "execution_count": null,
      "id": "9IWLXewLhMFb",
      "metadata": {
        "id": "9IWLXewLhMFb"
      },
      "outputs": [],
      "source": [
        "import os\n",
        "#print(os.listdir(\"/content/drive/My Drive/wheat-disease-detection-main-modified/wheat-disease-detection-main-modified\"))\n",
        "print(os.listdir(\"/content/drive/My Drive/examen c.rar (Unzipped Files)/wheat-disease-detection-main-modified\"))"
      ]
    },
    {
      "cell_type": "code",
      "execution_count": null,
      "id": "Vl1BOmwZhN7E",
      "metadata": {
        "id": "Vl1BOmwZhN7E"
      },
      "outputs": [],
      "source": [
        "dataset_path = \"/content/drive/My Drive/examen c.rar (Unzipped Files)/wheat-disease-detection-main-modified/cropDiseaseDataset\"\n",
        "if not os.path.exists(dataset_path):\n",
        "    raise FileNotFoundError(f\"Le dossier '{dataset_path}' n'existe pas !\")\n",
        "klass_dir = \"/content/drive/My Drive/examen c.rar (Unzipped Files)/wheat-disease-detection-main-modified/testCDD\"\n",
        "if not os.path.exists(klass_dir):\n",
        "    raise FileNotFoundError(f\"Le dossier '{klass_dir}' n'existe pas !\")\n",
        "validation_path = \"/content/drive/My Drive/examen c.rar (Unzipped Files)/wheat-disease-detection-main-modified/validCDD\"\n",
        "if not os.path.exists(validation_path):\n",
        "    raise FileNotFoundError(f\"Le dossier '{validation_path}' n'existe pas !\")"
      ]
    },
    {
      "cell_type": "markdown",
      "id": "4c890a84",
      "metadata": {
        "id": "4c890a84"
      },
      "source": [
        "### Setting the parameters"
      ]
    },
    {
      "cell_type": "code",
      "execution_count": null,
      "id": "99f63a16",
      "metadata": {
        "id": "99f63a16"
      },
      "outputs": [],
      "source": [
        "img_size = 64\n",
        "num_classes = 3\n",
        "batch_size = 32"
      ]
    },
    {
      "cell_type": "markdown",
      "id": "c39fdada",
      "metadata": {
        "id": "c39fdada"
      },
      "source": [
        "### Creating the image and the labels"
      ]
    },
    {
      "cell_type": "code",
      "execution_count": null,
      "id": "708e4bf1",
      "metadata": {
        "id": "708e4bf1"
      },
      "outputs": [],
      "source": [
        "from sklearn.preprocessing import LabelBinarizer\n",
        "\n",
        "def load_dataset():\n",
        "    images = []\n",
        "    labels = []\n",
        "    classes = os.listdir(dataset_path)\n",
        "    label_binarizer = LabelBinarizer()\n",
        "    for class_name in classes:\n",
        "        class_path = os.path.join(dataset_path, class_name)\n",
        "        if os.path.isdir(class_path):  # Check if the current item is a directory\n",
        "            for image_name in os.listdir(class_path):\n",
        "                image_path = os.path.join(class_path, image_name)\n",
        "                try:\n",
        "                    image = cv2.imread(image_path)\n",
        "                    if image is not None:  # Check if the image was loaded successfully\n",
        "                        image = cv2.resize(image, (img_size, img_size))\n",
        "                        images.append(image)\n",
        "                        labels.append(class_name)\n",
        "                    else:\n",
        "                        print(f\"Skipping invalid image: {image_path}\")\n",
        "                except Exception as e:\n",
        "                    print(f\"Error loading image: {image_path}\")\n",
        "                    print(str(e))\n",
        "    # Convert labels to unique binary arrays\n",
        "    labels = label_binarizer.fit_transform(labels)\n",
        "    #return images, labels\n",
        "    return images, labels, label_binarizer\n"
      ]
    },
    {
      "cell_type": "code",
      "execution_count": null,
      "id": "hZvx6aHbCabd",
      "metadata": {
        "id": "hZvx6aHbCabd"
      },
      "outputs": [],
      "source": [
        "\n",
        "def load_validation_data():\n",
        "    val_images = []\n",
        "    val_labels = []\n",
        "    val_classes = os.listdir(validation_path)\n",
        "    for class_name in val_classes:\n",
        "        class_dir = os.path.join(validation_path, class_name)\n",
        "        if os.path.isdir(class_dir):\n",
        "            for image_name in os.listdir(class_dir):\n",
        "                image_path = os.path.join(class_dir, image_name)\n",
        "                image = cv2.imread(image_path)\n",
        "                if image is not None:\n",
        "                    image = cv2.resize(image, (img_size, img_size))\n",
        "                    val_images.append(image)\n",
        "                    val_labels.append(class_name)\n",
        "    # Convert to array and one-hot\n",
        "    val_images = np.array(val_images).astype('float32') / 255.0\n",
        "    val_labels = label_binarizer.transform(val_labels)\n",
        "    return val_images, val_labels\n"
      ]
    },
    {
      "cell_type": "markdown",
      "id": "55f49164",
      "metadata": {
        "id": "55f49164"
      },
      "source": [
        "Images that are not in the correct format are skipped."
      ]
    },
    {
      "cell_type": "code",
      "execution_count": null,
      "id": "92fc6bc5",
      "metadata": {
        "id": "92fc6bc5",
        "scrolled": true,
        "colab": {
          "base_uri": "https://localhost:8080/"
        },
        "outputId": "878cf3ed-8303-422f-b029-3e95df09dde1"
      },
      "outputs": [
        {
          "output_type": "stream",
          "name": "stdout",
          "text": [
            "Skipping invalid image: /content/drive/My Drive/examen c.rar (Unzipped Files)/wheat-disease-detection-main-modified/cropDiseaseDataset/Wheat_crown_root_rot/00431.gif\n",
            "Skipping invalid image: /content/drive/My Drive/examen c.rar (Unzipped Files)/wheat-disease-detection-main-modified/cropDiseaseDataset/Wheat_crown_root_rot/00421.gif\n",
            "Skipping invalid image: /content/drive/My Drive/examen c.rar (Unzipped Files)/wheat-disease-detection-main-modified/cropDiseaseDataset/Wheat_crown_root_rot/00571.gif\n",
            "Skipping invalid image: /content/drive/My Drive/examen c.rar (Unzipped Files)/wheat-disease-detection-main-modified/cropDiseaseDataset/Wheat_crown_root_rot/00531.gif\n",
            "Skipping invalid image: /content/drive/My Drive/examen c.rar (Unzipped Files)/wheat-disease-detection-main-modified/cropDiseaseDataset/Wheat_crown_root_rot/00511.gif\n",
            "Skipping invalid image: /content/drive/My Drive/examen c.rar (Unzipped Files)/wheat-disease-detection-main-modified/cropDiseaseDataset/Wheat_crown_root_rot/00541.gif\n",
            "Skipping invalid image: /content/drive/My Drive/examen c.rar (Unzipped Files)/wheat-disease-detection-main-modified/cropDiseaseDataset/Wheat_crown_root_rot/03681.gif\n",
            "Skipping invalid image: /content/drive/My Drive/examen c.rar (Unzipped Files)/wheat-disease-detection-main-modified/cropDiseaseDataset/Wheat_crown_root_rot/07071.gif\n",
            "Skipping invalid image: /content/drive/My Drive/examen c.rar (Unzipped Files)/wheat-disease-detection-main-modified/cropDiseaseDataset/Wheat_Loose_Smut/0131.gif\n",
            "Skipping invalid image: /content/drive/My Drive/examen c.rar (Unzipped Files)/wheat-disease-detection-main-modified/cropDiseaseDataset/Wheat_Loose_Smut/0191.gif\n",
            "Skipping invalid image: /content/drive/My Drive/examen c.rar (Unzipped Files)/wheat-disease-detection-main-modified/cropDiseaseDataset/Wheat_Loose_Smut/3181.gif\n",
            "Skipping invalid image: /content/drive/My Drive/examen c.rar (Unzipped Files)/wheat-disease-detection-main-modified/cropDiseaseDataset/Wheat_Loose_Smut/3191.gif\n",
            "Skipping invalid image: /content/drive/My Drive/examen c.rar (Unzipped Files)/wheat-disease-detection-main-modified/cropDiseaseDataset/Wheat_Loose_Smut/3271.gif\n",
            "Skipping invalid image: /content/drive/My Drive/examen c.rar (Unzipped Files)/wheat-disease-detection-main-modified/cropDiseaseDataset/Wheat_Loose_Smut/6261.gif\n",
            "Skipping invalid image: /content/drive/My Drive/examen c.rar (Unzipped Files)/wheat-disease-detection-main-modified/cropDiseaseDataset/Wheat_Loose_Smut/6271.gif\n",
            "Skipping invalid image: /content/drive/My Drive/examen c.rar (Unzipped Files)/wheat-disease-detection-main-modified/cropDiseaseDataset/Wheat_Loose_Smut/6351.gif\n"
          ]
        }
      ],
      "source": [
        "#modified\n",
        "#images, labels = load_dataset()\n",
        "images, labels, label_binarizer = load_dataset()"
      ]
    },
    {
      "cell_type": "code",
      "execution_count": null,
      "id": "xlh0uWOICfUV",
      "metadata": {
        "id": "xlh0uWOICfUV"
      },
      "outputs": [],
      "source": [
        "val_images, val_labels = load_validation_data()\n"
      ]
    },
    {
      "cell_type": "markdown",
      "id": "55ddd5e8",
      "metadata": {
        "id": "55ddd5e8"
      },
      "source": [
        "### Preprocessing the dataset"
      ]
    },
    {
      "cell_type": "code",
      "execution_count": null,
      "id": "d383e037",
      "metadata": {
        "id": "d383e037"
      },
      "outputs": [],
      "source": [
        "def preprocess_dataset(images, labels):\n",
        "    images = np.array(images)\n",
        "    images = images.astype('float32') / 255.0\n",
        "    labels = np.array(labels)\n",
        "    return images, labels"
      ]
    },
    {
      "cell_type": "code",
      "execution_count": null,
      "id": "15963a0e",
      "metadata": {
        "id": "15963a0e"
      },
      "outputs": [],
      "source": [
        "images, labels = preprocess_dataset(images, labels)"
      ]
    },
    {
      "cell_type": "markdown",
      "id": "0cb909d4",
      "metadata": {
        "id": "0cb909d4"
      },
      "source": [
        "The labels after preprocessing are stored as a NumPy array"
      ]
    },
    {
      "cell_type": "code",
      "execution_count": null,
      "id": "a984c6e0",
      "metadata": {
        "id": "a984c6e0",
        "colab": {
          "base_uri": "https://localhost:8080/"
        },
        "outputId": "4da03d4c-a776-4f06-f39a-fbda31621416"
      },
      "outputs": [
        {
          "output_type": "stream",
          "name": "stdout",
          "text": [
            "[[0 1 0]\n",
            " [0 1 0]\n",
            " [0 1 0]\n",
            " ...\n",
            " [0 0 1]\n",
            " [0 0 1]\n",
            " [0 0 1]]\n"
          ]
        }
      ],
      "source": [
        "print(labels)"
      ]
    },
    {
      "cell_type": "markdown",
      "id": "b0abedca",
      "metadata": {
        "id": "b0abedca"
      },
      "source": [
        "## Creating the Convolutional Neural Network (CNN)"
      ]
    },
    {
      "cell_type": "markdown",
      "id": "7f8dfca5",
      "metadata": {
        "id": "7f8dfca5"
      },
      "source": [
        "### Splitting the data into a training and testing set"
      ]
    },
    {
      "cell_type": "code",
      "execution_count": null,
      "id": "8064ad94",
      "metadata": {
        "id": "8064ad94"
      },
      "outputs": [],
      "source": [
        "train_images, test_images, train_labels, test_labels = train_test_split(images, labels, test_size=0.1, random_state=42)"
      ]
    },
    {
      "cell_type": "markdown",
      "id": "750969e1",
      "metadata": {
        "id": "750969e1"
      },
      "source": [
        "### Creating the CNN model"
      ]
    },
    {
      "cell_type": "code",
      "execution_count": null,
      "id": "e8cb2ae4",
      "metadata": {
        "id": "e8cb2ae4",
        "colab": {
          "base_uri": "https://localhost:8080/"
        },
        "outputId": "f0ea259a-36ea-497e-ec5a-7bf387192ad4"
      },
      "outputs": [
        {
          "output_type": "stream",
          "name": "stderr",
          "text": [
            "/usr/local/lib/python3.11/dist-packages/keras/src/layers/convolutional/base_conv.py:107: UserWarning: Do not pass an `input_shape`/`input_dim` argument to a layer. When using Sequential models, prefer using an `Input(shape)` object as the first layer in the model instead.\n",
            "  super().__init__(activity_regularizer=activity_regularizer, **kwargs)\n"
          ]
        }
      ],
      "source": [
        "from tensorflow.keras.layers import Dropout\n",
        "model = Sequential()\n",
        "model.add(Conv2D(32, (3, 3), activation='relu', input_shape=(img_size, img_size, 3)))\n",
        "model.add(MaxPooling2D((2, 2)))\n",
        "model.add(Conv2D(64, (3, 3), activation='relu'))\n",
        "model.add(MaxPooling2D((2, 2)))\n",
        "model.add(Conv2D(128, (3, 3), activation='relu'))\n",
        "model.add(MaxPooling2D((2, 2)))\n",
        "model.add(Flatten())\n",
        "model.add(Dense(128, activation='relu'))\n",
        "model.add(Dropout(0.5))  # Ajoute ça avant la dernière couche\n",
        "model.add(Dense(num_classes, activation='softmax'))"
      ]
    },
    {
      "cell_type": "markdown",
      "id": "5d04ffd5",
      "metadata": {
        "id": "5d04ffd5"
      },
      "source": [
        "### Compiling the CNN model"
      ]
    },
    {
      "cell_type": "code",
      "execution_count": null,
      "id": "755fd2a3",
      "metadata": {
        "id": "755fd2a3"
      },
      "outputs": [],
      "source": [
        "model.compile(optimizer='adam', loss='categorical_crossentropy', metrics=['accuracy'])"
      ]
    },
    {
      "cell_type": "markdown",
      "id": "f61ab104",
      "metadata": {
        "id": "f61ab104"
      },
      "source": [
        "### Augmenting the training data"
      ]
    },
    {
      "cell_type": "code",
      "execution_count": null,
      "id": "96b56853",
      "metadata": {
        "id": "96b56853",
        "colab": {
          "base_uri": "https://localhost:8080/",
          "height": 35
        },
        "outputId": "8fb55bee-31c4-4b30-82ad-77833014954f"
      },
      "outputs": [
        {
          "output_type": "execute_result",
          "data": {
            "text/plain": [
              "'data_generator = ImageDataGenerator(rotation_range=20, width_shift_range=0.1, height_shift_range=0.1, horizontal_flip=True)\\ndata_generator.fit(train_images)'"
            ],
            "application/vnd.google.colaboratory.intrinsic+json": {
              "type": "string"
            }
          },
          "metadata": {},
          "execution_count": 16
        }
      ],
      "source": [
        "\n",
        "\"\"\"data_generator = ImageDataGenerator(rotation_range=20, width_shift_range=0.1, height_shift_range=0.1, horizontal_flip=True)\n",
        "data_generator.fit(train_images)\"\"\""
      ]
    },
    {
      "cell_type": "markdown",
      "id": "de918449",
      "metadata": {
        "id": "de918449"
      },
      "source": [
        "### Training the model with the training data"
      ]
    },
    {
      "cell_type": "markdown",
      "id": "65857df1",
      "metadata": {
        "id": "65857df1"
      },
      "source": [
        "The history variable stores the values of accuracy and loss after each epoch, which are then used to plot the graph"
      ]
    },
    {
      "cell_type": "code",
      "execution_count": null,
      "id": "689c4ebd",
      "metadata": {
        "colab": {
          "base_uri": "https://localhost:8080/"
        },
        "id": "689c4ebd",
        "outputId": "b8a9202a-33f5-437f-b7e5-4d669699cfe3",
        "scrolled": true
      },
      "outputs": [
        {
          "output_type": "stream",
          "name": "stdout",
          "text": [
            "Epoch 1/30\n",
            "\u001b[1m91/91\u001b[0m \u001b[32m━━━━━━━━━━━━━━━━━━━━\u001b[0m\u001b[37m\u001b[0m \u001b[1m9s\u001b[0m 35ms/step - accuracy: 0.4777 - loss: 1.0309 - val_accuracy: 0.7826 - val_loss: 0.7128\n",
            "Epoch 2/30\n",
            "\u001b[1m91/91\u001b[0m \u001b[32m━━━━━━━━━━━━━━━━━━━━\u001b[0m\u001b[37m\u001b[0m \u001b[1m1s\u001b[0m 6ms/step - accuracy: 0.6057 - loss: 0.8837 - val_accuracy: 0.8696 - val_loss: 0.4594\n",
            "Epoch 3/30\n",
            "\u001b[1m91/91\u001b[0m \u001b[32m━━━━━━━━━━━━━━━━━━━━\u001b[0m\u001b[37m\u001b[0m \u001b[1m1s\u001b[0m 7ms/step - accuracy: 0.6707 - loss: 0.7662 - val_accuracy: 0.8696 - val_loss: 0.2865\n",
            "Epoch 4/30\n",
            "\u001b[1m91/91\u001b[0m \u001b[32m━━━━━━━━━━━━━━━━━━━━\u001b[0m\u001b[37m\u001b[0m \u001b[1m1s\u001b[0m 8ms/step - accuracy: 0.7180 - loss: 0.6933 - val_accuracy: 0.9130 - val_loss: 0.3226\n",
            "Epoch 5/30\n",
            "\u001b[1m91/91\u001b[0m \u001b[32m━━━━━━━━━━━━━━━━━━━━\u001b[0m\u001b[37m\u001b[0m \u001b[1m1s\u001b[0m 8ms/step - accuracy: 0.7572 - loss: 0.5887 - val_accuracy: 1.0000 - val_loss: 0.2094\n",
            "Epoch 6/30\n",
            "\u001b[1m91/91\u001b[0m \u001b[32m━━━━━━━━━━━━━━━━━━━━\u001b[0m\u001b[37m\u001b[0m \u001b[1m1s\u001b[0m 7ms/step - accuracy: 0.8230 - loss: 0.4769 - val_accuracy: 1.0000 - val_loss: 0.0961\n",
            "Epoch 7/30\n",
            "\u001b[1m91/91\u001b[0m \u001b[32m━━━━━━━━━━━━━━━━━━━━\u001b[0m\u001b[37m\u001b[0m \u001b[1m1s\u001b[0m 6ms/step - accuracy: 0.8537 - loss: 0.3863 - val_accuracy: 1.0000 - val_loss: 0.0617\n",
            "Epoch 8/30\n",
            "\u001b[1m91/91\u001b[0m \u001b[32m━━━━━━━━━━━━━━━━━━━━\u001b[0m\u001b[37m\u001b[0m \u001b[1m1s\u001b[0m 6ms/step - accuracy: 0.8877 - loss: 0.3189 - val_accuracy: 1.0000 - val_loss: 0.0170\n",
            "Epoch 9/30\n",
            "\u001b[1m91/91\u001b[0m \u001b[32m━━━━━━━━━━━━━━━━━━━━\u001b[0m\u001b[37m\u001b[0m \u001b[1m1s\u001b[0m 6ms/step - accuracy: 0.9177 - loss: 0.2076 - val_accuracy: 0.9565 - val_loss: 0.0595\n",
            "Epoch 10/30\n",
            "\u001b[1m91/91\u001b[0m \u001b[32m━━━━━━━━━━━━━━━━━━━━\u001b[0m\u001b[37m\u001b[0m \u001b[1m1s\u001b[0m 6ms/step - accuracy: 0.9408 - loss: 0.1844 - val_accuracy: 1.0000 - val_loss: 0.0090\n",
            "Epoch 11/30\n",
            "\u001b[1m91/91\u001b[0m \u001b[32m━━━━━━━━━━━━━━━━━━━━\u001b[0m\u001b[37m\u001b[0m \u001b[1m1s\u001b[0m 6ms/step - accuracy: 0.9576 - loss: 0.1302 - val_accuracy: 1.0000 - val_loss: 0.0089\n",
            "Epoch 12/30\n",
            "\u001b[1m91/91\u001b[0m \u001b[32m━━━━━━━━━━━━━━━━━━━━\u001b[0m\u001b[37m\u001b[0m \u001b[1m1s\u001b[0m 6ms/step - accuracy: 0.9632 - loss: 0.1031 - val_accuracy: 1.0000 - val_loss: 0.0035\n",
            "Epoch 13/30\n",
            "\u001b[1m91/91\u001b[0m \u001b[32m━━━━━━━━━━━━━━━━━━━━\u001b[0m\u001b[37m\u001b[0m \u001b[1m1s\u001b[0m 6ms/step - accuracy: 0.9691 - loss: 0.0880 - val_accuracy: 1.0000 - val_loss: 0.0075\n",
            "Epoch 14/30\n",
            "\u001b[1m91/91\u001b[0m \u001b[32m━━━━━━━━━━━━━━━━━━━━\u001b[0m\u001b[37m\u001b[0m \u001b[1m1s\u001b[0m 6ms/step - accuracy: 0.9769 - loss: 0.0730 - val_accuracy: 1.0000 - val_loss: 0.0076\n",
            "Epoch 15/30\n",
            "\u001b[1m91/91\u001b[0m \u001b[32m━━━━━━━━━━━━━━━━━━━━\u001b[0m\u001b[37m\u001b[0m \u001b[1m1s\u001b[0m 8ms/step - accuracy: 0.9727 - loss: 0.0904 - val_accuracy: 1.0000 - val_loss: 0.0036\n",
            "Epoch 16/30\n",
            "\u001b[1m91/91\u001b[0m \u001b[32m━━━━━━━━━━━━━━━━━━━━\u001b[0m\u001b[37m\u001b[0m \u001b[1m1s\u001b[0m 6ms/step - accuracy: 0.9829 - loss: 0.0538 - val_accuracy: 1.0000 - val_loss: 0.0014\n",
            "Epoch 17/30\n",
            "\u001b[1m91/91\u001b[0m \u001b[32m━━━━━━━━━━━━━━━━━━━━\u001b[0m\u001b[37m\u001b[0m \u001b[1m1s\u001b[0m 6ms/step - accuracy: 0.9863 - loss: 0.0472 - val_accuracy: 1.0000 - val_loss: 8.3209e-04\n",
            "Epoch 18/30\n",
            "\u001b[1m91/91\u001b[0m \u001b[32m━━━━━━━━━━━━━━━━━━━━\u001b[0m\u001b[37m\u001b[0m \u001b[1m1s\u001b[0m 6ms/step - accuracy: 0.9849 - loss: 0.0451 - val_accuracy: 1.0000 - val_loss: 0.0021\n",
            "Epoch 19/30\n",
            "\u001b[1m91/91\u001b[0m \u001b[32m━━━━━━━━━━━━━━━━━━━━\u001b[0m\u001b[37m\u001b[0m \u001b[1m1s\u001b[0m 6ms/step - accuracy: 0.9851 - loss: 0.0465 - val_accuracy: 1.0000 - val_loss: 9.8667e-04\n",
            "Epoch 20/30\n",
            "\u001b[1m91/91\u001b[0m \u001b[32m━━━━━━━━━━━━━━━━━━━━\u001b[0m\u001b[37m\u001b[0m \u001b[1m1s\u001b[0m 6ms/step - accuracy: 0.9828 - loss: 0.0515 - val_accuracy: 1.0000 - val_loss: 2.3541e-04\n",
            "Epoch 21/30\n",
            "\u001b[1m91/91\u001b[0m \u001b[32m━━━━━━━━━━━━━━━━━━━━\u001b[0m\u001b[37m\u001b[0m \u001b[1m1s\u001b[0m 6ms/step - accuracy: 0.9865 - loss: 0.0353 - val_accuracy: 1.0000 - val_loss: 0.0045\n",
            "Epoch 22/30\n",
            "\u001b[1m91/91\u001b[0m \u001b[32m━━━━━━━━━━━━━━━━━━━━\u001b[0m\u001b[37m\u001b[0m \u001b[1m1s\u001b[0m 7ms/step - accuracy: 0.9840 - loss: 0.0398 - val_accuracy: 1.0000 - val_loss: 0.0016\n",
            "Epoch 23/30\n",
            "\u001b[1m91/91\u001b[0m \u001b[32m━━━━━━━━━━━━━━━━━━━━\u001b[0m\u001b[37m\u001b[0m \u001b[1m1s\u001b[0m 7ms/step - accuracy: 0.9869 - loss: 0.0259 - val_accuracy: 1.0000 - val_loss: 0.0012\n",
            "Epoch 24/30\n",
            "\u001b[1m91/91\u001b[0m \u001b[32m━━━━━━━━━━━━━━━━━━━━\u001b[0m\u001b[37m\u001b[0m \u001b[1m1s\u001b[0m 7ms/step - accuracy: 0.9890 - loss: 0.0265 - val_accuracy: 1.0000 - val_loss: 0.0012\n",
            "Epoch 25/30\n",
            "\u001b[1m91/91\u001b[0m \u001b[32m━━━━━━━━━━━━━━━━━━━━\u001b[0m\u001b[37m\u001b[0m \u001b[1m1s\u001b[0m 8ms/step - accuracy: 0.9882 - loss: 0.0309 - val_accuracy: 1.0000 - val_loss: 3.5137e-04\n",
            "Epoch 26/30\n",
            "\u001b[1m91/91\u001b[0m \u001b[32m━━━━━━━━━━━━━━━━━━━━\u001b[0m\u001b[37m\u001b[0m \u001b[1m1s\u001b[0m 6ms/step - accuracy: 0.9913 - loss: 0.0209 - val_accuracy: 1.0000 - val_loss: 1.7215e-04\n",
            "Epoch 27/30\n",
            "\u001b[1m91/91\u001b[0m \u001b[32m━━━━━━━━━━━━━━━━━━━━\u001b[0m\u001b[37m\u001b[0m \u001b[1m1s\u001b[0m 6ms/step - accuracy: 0.9873 - loss: 0.0235 - val_accuracy: 1.0000 - val_loss: 2.2507e-04\n",
            "Epoch 28/30\n",
            "\u001b[1m91/91\u001b[0m \u001b[32m━━━━━━━━━━━━━━━━━━━━\u001b[0m\u001b[37m\u001b[0m \u001b[1m1s\u001b[0m 6ms/step - accuracy: 0.9884 - loss: 0.0224 - val_accuracy: 1.0000 - val_loss: 5.6015e-04\n",
            "Epoch 29/30\n",
            "\u001b[1m91/91\u001b[0m \u001b[32m━━━━━━━━━━━━━━━━━━━━\u001b[0m\u001b[37m\u001b[0m \u001b[1m1s\u001b[0m 6ms/step - accuracy: 0.9828 - loss: 0.0418 - val_accuracy: 1.0000 - val_loss: 0.0213\n",
            "Epoch 30/30\n",
            "\u001b[1m91/91\u001b[0m \u001b[32m━━━━━━━━━━━━━━━━━━━━\u001b[0m\u001b[37m\u001b[0m \u001b[1m1s\u001b[0m 6ms/step - accuracy: 0.9775 - loss: 0.0674 - val_accuracy: 1.0000 - val_loss: 3.3346e-04\n"
          ]
        }
      ],
      "source": [
        "#history = model.fit(data_generator.flow(train_images, train_labels, batch_size=batch_size), steps_per_epoch=len(train_images) // batch_size, epochs=120,validation_data=(val_images, val_labels))\n",
        "history = model.fit(train_images, train_labels, batch_size=batch_size, epochs=30, validation_data=(val_images, val_labels))\n",
        "\n"
      ]
    },
    {
      "cell_type": "markdown",
      "id": "e3ca90f0",
      "metadata": {
        "id": "e3ca90f0"
      },
      "source": [
        "### The graphs of accuracy and loss after each epoch are plotted"
      ]
    },
    {
      "cell_type": "code",
      "source": [
        "# Plot accuracy\n",
        "plt.plot(history.history['accuracy'])\n",
        "plt.plot(history.history['val_accuracy'])\n",
        "plt.title('Model Accuracy')\n",
        "plt.xlabel('Epoch')\n",
        "plt.ylabel('Accuracy')\n",
        "plt.legend(['train', 'validation'], loc='upper left')\n",
        "plt.show()\n",
        "\n",
        "# Plot loss\n",
        "plt.plot(history.history['loss'])\n",
        "plt.plot(history.history['val_loss'])\n",
        "plt.title('Model Loss')\n",
        "plt.xlabel('Epoch')\n",
        "plt.ylabel('Loss')\n",
        "plt.legend(['train', 'validation'], loc='upper right')\n",
        "plt.show()"
      ],
      "metadata": {
        "colab": {
          "base_uri": "https://localhost:8080/",
          "height": 927
        },
        "id": "i4HIOiOQm5iV",
        "outputId": "91e927c1-9f8c-4c4e-b2e4-449cb296dd8b"
      },
      "id": "i4HIOiOQm5iV",
      "execution_count": null,
      "outputs": [
        {
          "output_type": "display_data",
          "data": {
            "text/plain": [
              "<Figure size 640x480 with 1 Axes>"
            ],
            "image/png": "[encoded data removed]"
          },
          "metadata": {}
        },
        {
          "output_type": "display_data",
          "data": {
            "text/plain": [
              "<Figure size 640x480 with 1 Axes>"
            ],
            "image/png": "[encoded data removed]"
          },
          "metadata": {}
        }
      ]
    },
    {
      "cell_type": "markdown",
      "id": "2fbe3ed0",
      "metadata": {
        "id": "2fbe3ed0"
      },
      "source": [
        "### Evaluating the model"
      ]
    },
    {
      "cell_type": "code",
      "source": [
        "from sklearn.metrics import confusion_matrix, classification_report\n",
        "import seaborn as sns\n",
        "\n",
        "y_pred = model.predict(test_images)\n",
        "y_pred_classes = np.argmax(y_pred, axis=1)\n",
        "y_true = np.argmax(test_labels, axis=1)\n",
        "\n",
        "cm = confusion_matrix(y_true, y_pred_classes)\n",
        "sns.heatmap(cm, annot=True, fmt=\"d\")\n",
        "plt.xlabel(\"Predicted\")\n",
        "plt.ylabel(\"True\")\n",
        "plt.title(\"Confusion Matrix\")\n",
        "plt.show()\n",
        "\n",
        "print(classification_report(y_true, y_pred_classes))\n"
      ],
      "metadata": {
        "colab": {
          "base_uri": "https://localhost:8080/",
          "height": 663
        },
        "id": "8tpsONxncbod",
        "outputId": "2625c23c-fe97-4abb-c73f-861d401bac37"
      },
      "id": "8tpsONxncbod",
      "execution_count": null,
      "outputs": [
        {
          "output_type": "stream",
          "name": "stdout",
          "text": [
            "\u001b[1m11/11\u001b[0m \u001b[32m━━━━━━━━━━━━━━━━━━━━\u001b[0m\u001b[37m\u001b[0m \u001b[1m0s\u001b[0m 4ms/step \n"
          ]
        },
        {
          "output_type": "display_data",
          "data": {
            "text/plain": [
              "<Figure size 640x480 with 2 Axes>"
            ],
            "image/png": "[encoded data removed]"
          },
          "metadata": {}
        },
        {
          "output_type": "stream",
          "name": "stdout",
          "text": [
            "              precision    recall  f1-score   support\n",
            "\n",
            "           0       0.96      0.95      0.96        80\n",
            "           1       0.97      0.99      0.98       125\n",
            "           2       0.97      0.96      0.97       116\n",
            "\n",
            "    accuracy                           0.97       321\n",
            "   macro avg       0.97      0.97      0.97       321\n",
            "weighted avg       0.97      0.97      0.97       321\n",
            "\n"
          ]
        }
      ]
    },
    {
      "cell_type": "markdown",
      "id": "c0797aa7",
      "metadata": {
        "id": "c0797aa7"
      },
      "source": [
        "The model's loss and accuracy is evaluted against the test data"
      ]
    },
    {
      "cell_type": "code",
      "source": [
        "# Evaluate the model\n",
        "loss, accuracy = model.evaluate(test_images, test_labels)\n",
        "print(\"Test Loss:\", loss)\n",
        "print(\"Test Accuracy:\", accuracy)"
      ],
      "metadata": {
        "colab": {
          "base_uri": "https://localhost:8080/"
        },
        "id": "bVrdnS-qcd8l",
        "outputId": "a1683665-074c-4ae7-d860-5db224fb83a5"
      },
      "id": "bVrdnS-qcd8l",
      "execution_count": null,
      "outputs": [
        {
          "output_type": "stream",
          "name": "stdout",
          "text": [
            "\u001b[1m11/11\u001b[0m \u001b[32m━━━━━━━━━━━━━━━━━━━━\u001b[0m\u001b[37m\u001b[0m \u001b[1m1s\u001b[0m 37ms/step - accuracy: 0.9612 - loss: 0.0699\n",
            "Test Loss: 0.0697866752743721\n",
            "Test Accuracy: 0.9688473343849182\n"
          ]
        }
      ]
    },
    {
      "cell_type": "code",
      "source": [
        "final_val_acc = history.history['val_accuracy'][-1]\n",
        "print(f\"Validation Accuracy : {final_val_acc:.5f}\")\n"
      ],
      "metadata": {
        "colab": {
          "base_uri": "https://localhost:8080/"
        },
        "id": "sQLwjaGenBAt",
        "outputId": "7a8bf7f8-3edd-4d29-b73c-0837c5a9fe15"
      },
      "id": "sQLwjaGenBAt",
      "execution_count": null,
      "outputs": [
        {
          "output_type": "stream",
          "name": "stdout",
          "text": [
            "Validation Accuracy :0.99862853227542467\n"
          ]
        }
      ]
    },
    {
      "cell_type": "markdown",
      "id": "Sqytq5U2YDpX",
      "metadata": {
        "id": "Sqytq5U2YDpX"
      },
      "source": [
        "--------------------------------------------------------------------------------------------------------------------------------------------"
      ]
    },
    {
      "cell_type": "markdown",
      "id": "8b3eaa91",
      "metadata": {
        "id": "8b3eaa91"
      },
      "source": [
        "### Saving the model"
      ]
    },
    {
      "cell_type": "markdown",
      "id": "f9547af2",
      "metadata": {
        "id": "f9547af2"
      },
      "source": [
        "The model is saved as an H5 file. This format is used as both weights and model configuration can be stored in the same file."
      ]
    },
    {
      "cell_type": "code",
      "execution_count": null,
      "id": "5e2a72d3",
      "metadata": {
        "id": "5e2a72d3",
        "colab": {
          "base_uri": "https://localhost:8080/"
        },
        "outputId": "3a4d3ed1-59b0-491e-a8b2-3b66b0a00d92"
      },
      "outputs": [
        {
          "output_type": "stream",
          "name": "stderr",
          "text": [
            "WARNING:absl:You are saving your model as an HDF5 file via `model.save()` or `keras.saving.save_model(model)`. This file format is considered legacy. We recommend using instead the native Keras format, e.g. `model.save('my_model.keras')` or `keras.saving.save_model(model, 'my_model.keras')`. \n"
          ]
        }
      ],
      "source": [
        "model.save('wheatDiseaseModel.h5')"
      ]
    }
  ],
  "metadata": {
    "colab": {
      "provenance": [],
      "gpuType": "T4"
    },
    "kernelspec": {
      "display_name": "Python 3",
      "name": "python3"
    },
    "language_info": {
      "codemirror_mode": {
        "name": "ipython",
        "version": 3
      },
      "file_extension": ".py",
      "mimetype": "text/x-python",
      "name": "python",
      "nbconvert_exporter": "python",
      "pygments_lexer": "ipython3",
      "version": "3.10.9"
    },
    "accelerator": "GPU"
  },
  "nbformat": 4,
  "nbformat_minor": 5
}